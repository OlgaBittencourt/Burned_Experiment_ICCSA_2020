{
 "cells": [
  {
   "cell_type": "markdown",
   "metadata": {},
   "source": [
    "<h1>Definição de dados utilizados na Classificação de Cicatrizes de Queima</h1>\n",
    "\n",
    "<i>Objetivo:</i> Apresentar os dados necessários para realizar a classificação, incluindo formatos de entrada e saída. \n",
    "\n",
    "Versão: Maio/2020 -  Olga Bittencourt"
   ]
  },
  {
   "cell_type": "markdown",
   "metadata": {},
   "source": [
    "<h1>Passo 1 - Dados de entrada </h1>\n",
    "\n",
    "<h2> Áreas Monitoradas </h2>\n",
    "\n",
    "Neste trabalho foram utilizados os dados de desenvolvimento do projeto Queimadas validados por especialistas da área. Eles são divididos por órbita-ponto e possuem resolução de 30m. \n",
    "\n",
    "A figura abaixo ilustra algumas áreas de abrangência do projeto.\n",
    "\n",
    "<table border=\"1\">\n",
    "   <tr><td>Área de abragência para resolução </td></tr>\n",
    "   <tr><td><img src=\"./Data/area_abrangencia_queimadas.png\" alt=\"Imagem ilustrativa de algumas órbitas-ponto cobertas pelo projeto Queimadas na resolução de 30m.\" style=\"width: 400px;\"/></td></tr>\n",
    "</table>\n",
    "\n",
    "Mais detalhes podem ser encontrados na página www.inpe.br/queimadas e nas definições do projeto. "
   ]
  },
  {
   "cell_type": "markdown",
   "metadata": {
    "collapsed": true
   },
   "source": [
    "<h2> Áreas Queimadas </h2>\n",
    "\n",
    "Neste exemplo foram utilizados os dados da áreas seguintas órbitas-ponto: 221/064, 221/065, 220/064, 220/065, 220/066, 219/064, 219/065 e 219/066 do ano de 2018 versão disponibilizada em dezembro/2018. Os dados podem ser obtidos na página do projeto, que disponibiliza as versões mais recentes já avaliadas.\n",
    "\n",
    "A tabela descreve um resumo dos dados de entrada:\n",
    "\n",
    "<table border=\"1\">\n",
    "   <tr><td> ano </td>  <td> formato </td> <td> tamanho  </td>  <td> polígonos </td> </tr>\n",
    "   <tr><td>2018</td>  <td> csv </td> <td> 15.6 Mb </td>  <td>   118.881  </td> </tr>\n",
    "</table>"
   ]
  },
  {
   "cell_type": "markdown",
   "metadata": {},
   "source": [
    "<h1> Dados que serão utilizados na fase de classificação </h1>\n",
    "\n",
    "A fase de classificação será realizada a partir de polígonos que representam as áreas queimadas e seus atributos, que devem conter:\n",
    "\n",
    "- medianas das bandas espectrais (de 2 a 7) dos polígonos da imagem da data observada\n",
    "- medianas das bandas espectrais (de 2 a 7) dos polígonos da imagem da data anterior, usadas para comparação\n",
    "- diferenças entre os valores de algumas medianas, da imagem atual em relação à imagem anterior\n",
    "- área queimada (área do polígono) em hectares\n",
    "- data da imagem que está sendo analisada\n",
    "- órbita/ponto\n",
    "- indices de vegetacao\n",
    "\n",
    "\n",
    "class  data_atual path_row   area"
   ]
  },
  {
   "cell_type": "markdown",
   "metadata": {},
   "source": [
    "<h2> Exemplo do arquivo de cicatrizes recuperado para o dado de 2018 </h2>\n",
    "\n",
    "A figura abaixo ilustra o exemplo de um arquivo com informações de queimadas.\n",
    "\n",
    "Alguns dados são mostrados na tabela abaixo. Nem todos esses atributos aparecem em todas as versões, mas mostramos aqui um exemplo:\n",
    "\n",
    "<table border=\"1\">\n",
    "<tr><td>Nome do atributo </td> <td> Descrição do atributo </td> <td> Exemplo </td></tr>\n",
    "<tr><td>band2</td> <td> mediana dos valores da banda 2 para todos os pixels do polígono identificado</td> <td> 0.0585</td></tr>\n",
    "<tr><td>band2_pre</td> <td> mediana dos valores da banda 2 para todos os pixels da imagem anterior que compreendem o polígono identificado</td> <td> 0.0464</td></tr>\n",
    "<tr><td>band3</td> <td> mediana dos valores da banda 3 para todos os pixels do polígono identificado</td> <td> 0.0724</td></tr>\n",
    "<tr><td>band3_pre</td> <td> mediana dos valores da banda 3 para todos os pixels da imagem anterior que compreendem o polígono identificado</td> <td> 0.0743</td></tr>    \n",
    "<tr><td>band4</td> <td> mediana dos valores da banda 4 para todos os pixels do polígono identificado</td> <td> 0.0912</td></tr>\n",
    "<tr><td>band4_pre</td> <td> mediana dos valores da banda 4 para todos os pixels da imagem anterior que compreendem o polígono identificado</td> <td> 0.1184</td></tr>\n",
    "<tr><td>band5</td> <td> mediana dos valores da banda 5 para todos os pixels do polígono identificado</td> <td> 0.1714</td></tr>\n",
    "<tr><td>band5_pre</td> <td> mediana dos valores da banda 5 para todos os pixels da imagem anterior que compreendem o polígono identificado</td> <td> 0.2755</td></tr>\n",
    "<tr><td>band5_dif</td> <td> diferença entre o valor de band5 and band5_pre</td> <td> 0.0038</td></tr>\n",
    "<tr><td>band6</td> <td> mediana dos valores da banda 6 para todos os pixels do polígono identificado</td> <td> 0.2927</td></tr>\n",
    "<tr><td>band6_pre</td> <td> mediana dos valores da banda 6 para todos os pixels da imagem anterior que compreendem o polígono identificado</td> <td> 0.3767</td></tr> \n",
    "<tr><td>band6_dif</td> <td> diferença entre o valor de band6 and band6_pre</td> <td> 0.0022</td></tr>\n",
    "<tr><td>band7</td> <td> mediana dos valores da banda 7 para todos os pixels do polígono identificado</td> <td> 0.2446</td></tr>\n",
    "<tr><td>band7_pre</td> <td> mediana dos valores da banda 7 para todos os pixels da imagem anterior que compreendem o polígono identificado</td> <td> 0.2186</td></tr> \n",
    "<tr><td>band7_dif</td> <td> diferença entre o valor de band7 and band7_pre</td> <td> -0.0009</td></tr>\n",
    "<tr><td>data_atual</td> <td> data de passagem do satelite - fomato yyyy-mm-dd</td> <td> 2018-11-02</td></tr>\n",
    "<tr><td>orb_pto</td> <td> identificador da orbita_ponto do LandSat</td>  <td> 219_066</td></tr>\n",
    "<tr><td>area</td> <td> valor da área da cicatriz observada</td> <td> 20.34</td></tr>\n",
    "<tr><td>classe</td> <td> resultado da classificação validada por um auditor</td> <td> burned</td></tr>\n",
    "</table>\n"
   ]
  },
  {
   "cell_type": "markdown",
   "metadata": {},
   "source": [
    "<h2>Índices de vegetação estimados</h2>\n",
    "\n",
    "Para realizar a classificação, alguns índices de vegetação saão estimados e acrescentados aos atributos.\n",
    "\n",
    "<table border=\"1\">\n",
    "<tr><td>MIRBI</td> <td> Mid-Infrared Burn Index </td> </tr>\n",
    "<tr><td>BAI</td> <td> Burned Area Index Index </td> </tr>\n",
    "<tr><td>NDWI</td> <td> Normalized Difference Water Index </td> </tr>\n",
    "<tr><td>GEMI</td> <td> Global Environmental Monitoring Index </td> </tr>\n",
    "<tr><td>CSI</td> <td> Char Soil Index </td> </tr>    \n",
    "<tr><td>SVI</td> <td> Standardized Vegetation Index </td> </tr>  \n",
    "<tr><td>SAVI</td> <td> Vegetation Index Soil-Adjusted </td> </tr>  \n",
    "<tr><td>TVI</td> <td> Transformed Vegetation Index </td> </tr>  \n",
    "<tr><td>NBR</td> <td> Normalized Burn Ratio </td> </tr> \n",
    "<tr><td>NDVI</td> <td> Normalized Difference Vegetation Index </td> </tr>      \n",
    "</table>\n",
    "\n"
   ]
  }
 ],
 "metadata": {
  "kernelspec": {
   "display_name": "Python 3",
   "language": "python",
   "name": "python3"
  },
  "language_info": {
   "codemirror_mode": {
    "name": "ipython",
    "version": 3
   },
   "file_extension": ".py",
   "mimetype": "text/x-python",
   "name": "python",
   "nbconvert_exporter": "python",
   "pygments_lexer": "ipython3",
   "version": "3.7.3"
  }
 },
 "nbformat": 4,
 "nbformat_minor": 2
}
